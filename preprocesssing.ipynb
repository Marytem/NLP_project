{
 "cells": [
  {
   "cell_type": "code",
   "execution_count": 1,
   "metadata": {},
   "outputs": [],
   "source": [
    "import pandas as pd\n",
    "import numpy as np"
   ]
  },
  {
   "cell_type": "code",
   "execution_count": 2,
   "metadata": {},
   "outputs": [],
   "source": [
    "df = pd.read_csv('chembl_24_chemreps.txt',sep='\\t')"
   ]
  },
  {
   "cell_type": "code",
   "execution_count": 3,
   "metadata": {},
   "outputs": [
    {
     "data": {
      "text/html": [
       "<div>\n",
       "<style scoped>\n",
       "    .dataframe tbody tr th:only-of-type {\n",
       "        vertical-align: middle;\n",
       "    }\n",
       "\n",
       "    .dataframe tbody tr th {\n",
       "        vertical-align: top;\n",
       "    }\n",
       "\n",
       "    .dataframe thead th {\n",
       "        text-align: right;\n",
       "    }\n",
       "</style>\n",
       "<table border=\"1\" class=\"dataframe\">\n",
       "  <thead>\n",
       "    <tr style=\"text-align: right;\">\n",
       "      <th></th>\n",
       "      <th>chembl_id</th>\n",
       "      <th>canonical_smiles</th>\n",
       "      <th>standard_inchi</th>\n",
       "      <th>standard_inchi_key</th>\n",
       "    </tr>\n",
       "  </thead>\n",
       "  <tbody>\n",
       "    <tr>\n",
       "      <th>count</th>\n",
       "      <td>1820035</td>\n",
       "      <td>1820035</td>\n",
       "      <td>1820026</td>\n",
       "      <td>1820035</td>\n",
       "    </tr>\n",
       "    <tr>\n",
       "      <th>unique</th>\n",
       "      <td>1820035</td>\n",
       "      <td>1819490</td>\n",
       "      <td>1820026</td>\n",
       "      <td>1820035</td>\n",
       "    </tr>\n",
       "    <tr>\n",
       "      <th>top</th>\n",
       "      <td>CHEMBL21676</td>\n",
       "      <td>CN(C)N=Nc1[nH]cnc1C(=O)N</td>\n",
       "      <td>InChI=1S/C18H24N2O3S2/c1-2-10-24-11-5-8-19-17(...</td>\n",
       "      <td>KAELNCPCBLGJNR-WUXMJOGZSA-N</td>\n",
       "    </tr>\n",
       "    <tr>\n",
       "      <th>freq</th>\n",
       "      <td>1</td>\n",
       "      <td>3</td>\n",
       "      <td>1</td>\n",
       "      <td>1</td>\n",
       "    </tr>\n",
       "  </tbody>\n",
       "</table>\n",
       "</div>"
      ],
      "text/plain": [
       "          chembl_id          canonical_smiles  \\\n",
       "count       1820035                   1820035   \n",
       "unique      1820035                   1819490   \n",
       "top     CHEMBL21676  CN(C)N=Nc1[nH]cnc1C(=O)N   \n",
       "freq              1                         3   \n",
       "\n",
       "                                           standard_inchi  \\\n",
       "count                                             1820026   \n",
       "unique                                            1820026   \n",
       "top     InChI=1S/C18H24N2O3S2/c1-2-10-24-11-5-8-19-17(...   \n",
       "freq                                                    1   \n",
       "\n",
       "                 standard_inchi_key  \n",
       "count                       1820035  \n",
       "unique                      1820035  \n",
       "top     KAELNCPCBLGJNR-WUXMJOGZSA-N  \n",
       "freq                              1  "
      ]
     },
     "execution_count": 3,
     "metadata": {},
     "output_type": "execute_result"
    }
   ],
   "source": [
    "df.describe()"
   ]
  },
  {
   "cell_type": "code",
   "execution_count": 4,
   "metadata": {},
   "outputs": [],
   "source": [
    "df1 = df['canonical_smiles']"
   ]
  },
  {
   "cell_type": "code",
   "execution_count": 5,
   "metadata": {},
   "outputs": [
    {
     "data": {
      "text/plain": [
       "count                      1820035\n",
       "unique                     1819490\n",
       "top       CN(C)N=Nc1[nH]cnc1C(=O)N\n",
       "freq                             3\n",
       "Name: canonical_smiles, dtype: object"
      ]
     },
     "execution_count": 5,
     "metadata": {},
     "output_type": "execute_result"
    }
   ],
   "source": [
    "df1.describe()"
   ]
  },
  {
   "cell_type": "code",
   "execution_count": 6,
   "metadata": {},
   "outputs": [
    {
     "name": "stdout",
     "output_type": "stream",
     "text": [
      "corpus length: 102623285\n",
      "total chars: 56\n"
     ]
    }
   ],
   "source": [
    "text = \"\".join(df1)\n",
    "print('corpus length:', len(text))\n",
    "chars = sorted(list(set(text)))\n",
    "print('total chars:', len(chars))"
   ]
  },
  {
   "cell_type": "code",
   "execution_count": 7,
   "metadata": {},
   "outputs": [],
   "source": [
    "df1.replace(to_replace={\n",
    "    \"nH\" : \"A\",\n",
    "    \"Cl\" : \"L\",\n",
    "    \"Br\" : \"R\",\n",
    "    \"C@\" : \"C\",\n",
    "    \"C@@\" : \"C\",\n",
    "    \"C@H\" : \"C\",\n",
    "    \"C@@H\" : \"C\",\n",
    "    \"/\" : \"\",\n",
    "    '\\\\\\\\' : \"\"\n",
    "},inplace=True, regex=True)\n",
    "needed_symbs = 'CFLRIONSAcons123456789=#()'\n"
   ]
  },
  {
   "cell_type": "code",
   "execution_count": 8,
   "metadata": {},
   "outputs": [
    {
     "name": "stdout",
     "output_type": "stream",
     "text": [
      "corpus length: 97740925\n",
      "total chars: 54\n"
     ]
    }
   ],
   "source": [
    "text = \"\".join(df1)\n",
    "print('corpus length:', len(text))\n",
    "chars = sorted(list(set(text)))\n",
    "print('total chars:', len(chars))"
   ]
  },
  {
   "cell_type": "code",
   "execution_count": 9,
   "metadata": {},
   "outputs": [],
   "source": [
    "df1 = df1.str.replace(\"[^CFLRIONSAcons123456789=#()]\", \"\").str.strip()"
   ]
  },
  {
   "cell_type": "code",
   "execution_count": 10,
   "metadata": {},
   "outputs": [
    {
     "name": "stdout",
     "output_type": "stream",
     "text": [
      "corpus length: 91498110\n",
      "total chars: 26\n"
     ]
    }
   ],
   "source": [
    "text = \"\".join(df1)\n",
    "print('corpus length:', len(text))\n",
    "chars = sorted(list(set(text)))\n",
    "print('total chars:', len(chars))"
   ]
  },
  {
   "cell_type": "code",
   "execution_count": 11,
   "metadata": {},
   "outputs": [
    {
     "data": {
      "text/plain": [
       "1410884    CCN(CC)S(=O)(=O)c1cccc(c1)C(=O)NN=Cc2ccc(O)c(O...\n",
       "1762386    CCCCN1CCN(C(C)C1)C(=O)N2CC3=C(NNC3=NC(=O)c4ccc...\n",
       "919757     COc1cccc(c1)C(=O)CN2C(=O)C(C)(C)Oc3ccc(cc23)C(...\n",
       "763598     LOC1(CCN(CCCC(=O)c2ccc(F)cc2)CC1)c3cccc(c3)C(F...\n",
       "Name: canonical_smiles, dtype: object"
      ]
     },
     "execution_count": 11,
     "metadata": {},
     "output_type": "execute_result"
    }
   ],
   "source": [
    "df1.sample(4)"
   ]
  },
  {
   "cell_type": "code",
   "execution_count": 12,
   "metadata": {},
   "outputs": [],
   "source": [
    "df1.to_csv('preprocessed_smiles.csv')"
   ]
  },
  {
   "cell_type": "code",
   "execution_count": null,
   "metadata": {},
   "outputs": [],
   "source": []
  }
 ],
 "metadata": {
  "kernelspec": {
   "display_name": "Python 3",
   "language": "python",
   "name": "python3"
  },
  "language_info": {
   "codemirror_mode": {
    "name": "ipython",
    "version": 3
   },
   "file_extension": ".py",
   "mimetype": "text/x-python",
   "name": "python",
   "nbconvert_exporter": "python",
   "pygments_lexer": "ipython3",
   "version": "3.6.7"
  }
 },
 "nbformat": 4,
 "nbformat_minor": 2
}
