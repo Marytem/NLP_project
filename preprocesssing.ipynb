{
 "cells": [
  {
   "cell_type": "code",
   "execution_count": 35,
   "metadata": {},
   "outputs": [],
   "source": [
    "import pandas as pd\n",
    "import numpy as np"
   ]
  },
  {
   "cell_type": "code",
   "execution_count": 25,
   "metadata": {},
   "outputs": [],
   "source": [
    "df = pd.read_csv('data/chembl_24_chemreps.txt',sep='\\t')"
   ]
  },
  {
   "cell_type": "code",
   "execution_count": 26,
   "metadata": {},
   "outputs": [
    {
     "data": {
      "text/html": [
       "<div>\n",
       "<style scoped>\n",
       "    .dataframe tbody tr th:only-of-type {\n",
       "        vertical-align: middle;\n",
       "    }\n",
       "\n",
       "    .dataframe tbody tr th {\n",
       "        vertical-align: top;\n",
       "    }\n",
       "\n",
       "    .dataframe thead th {\n",
       "        text-align: right;\n",
       "    }\n",
       "</style>\n",
       "<table border=\"1\" class=\"dataframe\">\n",
       "  <thead>\n",
       "    <tr style=\"text-align: right;\">\n",
       "      <th></th>\n",
       "      <th>chembl_id</th>\n",
       "      <th>canonical_smiles</th>\n",
       "      <th>standard_inchi</th>\n",
       "      <th>standard_inchi_key</th>\n",
       "    </tr>\n",
       "  </thead>\n",
       "  <tbody>\n",
       "    <tr>\n",
       "      <th>count</th>\n",
       "      <td>1820035</td>\n",
       "      <td>1820035</td>\n",
       "      <td>1820026</td>\n",
       "      <td>1820035</td>\n",
       "    </tr>\n",
       "    <tr>\n",
       "      <th>unique</th>\n",
       "      <td>1820035</td>\n",
       "      <td>1819490</td>\n",
       "      <td>1820026</td>\n",
       "      <td>1820035</td>\n",
       "    </tr>\n",
       "    <tr>\n",
       "      <th>top</th>\n",
       "      <td>CHEMBL1705959</td>\n",
       "      <td>NS(=O)(=O)c1ccc(cc1)N=Nc2c(O)c(cc3ccccc23)C(=O)O</td>\n",
       "      <td>InChI=1S/C20H18BNO5/c23-19-11-8-16(21(25)26)12...</td>\n",
       "      <td>XKGXRYUERCGFMQ-FKSKYRLFSA-N</td>\n",
       "    </tr>\n",
       "    <tr>\n",
       "      <th>freq</th>\n",
       "      <td>1</td>\n",
       "      <td>3</td>\n",
       "      <td>1</td>\n",
       "      <td>1</td>\n",
       "    </tr>\n",
       "  </tbody>\n",
       "</table>\n",
       "</div>"
      ],
      "text/plain": [
       "            chembl_id                                  canonical_smiles  \\\n",
       "count         1820035                                           1820035   \n",
       "unique        1820035                                           1819490   \n",
       "top     CHEMBL1705959  NS(=O)(=O)c1ccc(cc1)N=Nc2c(O)c(cc3ccccc23)C(=O)O   \n",
       "freq                1                                                 3   \n",
       "\n",
       "                                           standard_inchi  \\\n",
       "count                                             1820026   \n",
       "unique                                            1820026   \n",
       "top     InChI=1S/C20H18BNO5/c23-19-11-8-16(21(25)26)12...   \n",
       "freq                                                    1   \n",
       "\n",
       "                 standard_inchi_key  \n",
       "count                       1820035  \n",
       "unique                      1820035  \n",
       "top     XKGXRYUERCGFMQ-FKSKYRLFSA-N  \n",
       "freq                              1  "
      ]
     },
     "execution_count": 26,
     "metadata": {},
     "output_type": "execute_result"
    }
   ],
   "source": [
    "df.describe()"
   ]
  },
  {
   "cell_type": "code",
   "execution_count": 27,
   "metadata": {},
   "outputs": [],
   "source": [
    "df1 = df['canonical_smiles']"
   ]
  },
  {
   "cell_type": "code",
   "execution_count": 28,
   "metadata": {},
   "outputs": [
    {
     "data": {
      "text/plain": [
       "count                                              1820035\n",
       "unique                                             1819490\n",
       "top       NS(=O)(=O)c1ccc(cc1)N=Nc2c(O)c(cc3ccccc23)C(=O)O\n",
       "freq                                                     3\n",
       "Name: canonical_smiles, dtype: object"
      ]
     },
     "execution_count": 28,
     "metadata": {},
     "output_type": "execute_result"
    }
   ],
   "source": [
    "df1.describe()"
   ]
  },
  {
   "cell_type": "code",
   "execution_count": 30,
   "metadata": {},
   "outputs": [],
   "source": [
    "df1.replace(to_replace={\n",
    "    \"[nH]\" : \"A\",\n",
    "    \"Cl\" : \"L\",\n",
    "    \"[Br]\" : \"R\",\n",
    "    \"[C@]\" : \"C\",\n",
    "    \"[C@@]\" : \"C\",\n",
    "    \"[C@H]\" : \"C\",\n",
    "    \"[C@@H]\" : \"C\",\n",
    "    \"/\" : \"\",\n",
    "    '\\\\\\\\' : \"\"\n",
    "},inplace=True, regex=True)\n",
    "needed_symbs = 'CFLRIONSAcons123456789=#()'\n"
   ]
  },
  {
   "cell_type": "code",
   "execution_count": 31,
   "metadata": {},
   "outputs": [],
   "source": [
    "df1 = df1.str.replace(\"[\", \"\").str.strip()\n",
    "df1 = df1.str.replace(\"]\", \"\").str.strip()\n",
    "\n",
    "df1 = df1.str.replace(\"+\", \"\").str.strip()\n",
    "df1 = df1.str.replace(\"-\", \"\").str.strip()"
   ]
  },
  {
   "cell_type": "code",
   "execution_count": 32,
   "metadata": {},
   "outputs": [
    {
     "data": {
      "text/plain": [
       "859436                   CC(C)(C)NC(=O)C1c2ccccc2Oc3ccccc13\n",
       "175136    Cc1AAcAc1C=CCNC(=O)CCCA2CCCN2C(=O)CCA(N)C(c3cc...\n",
       "506640    CN(CCCA1CCC2=C(C1)C3C=CC=CC3N2CC(=O)O)S(=O)(=O...\n",
       "133466            OCc1ccc(C=NNC(=O)c2ccc(O)c(F)c2)c3ccccc13\n",
       "Name: canonical_smiles, dtype: object"
      ]
     },
     "execution_count": 32,
     "metadata": {},
     "output_type": "execute_result"
    }
   ],
   "source": [
    "df1.sample(4)"
   ]
  },
  {
   "cell_type": "code",
   "execution_count": 33,
   "metadata": {},
   "outputs": [],
   "source": [
    "df1.to_csv('preprocessed_smiles.csv')"
   ]
  },
  {
   "cell_type": "code",
   "execution_count": 37,
   "metadata": {},
   "outputs": [
    {
     "name": "stdout",
     "output_type": "stream",
     "text": [
      "corpus length: 96527624\n",
      "total chars: 45\n"
     ]
    }
   ],
   "source": [
    "text = \"\".join(df1)\n",
    "print('corpus length:', len(text))\n",
    "chars = sorted(list(set(text)))\n",
    "print('total chars:', len(chars))\n",
    "char_indices = dict((c, i) for i, c in enumerate(chars))\n",
    "indices_char = dict((i, c) for i, c in enumerate(chars))# cutting the SMILES corpus into the sequences used for training\n",
    "better_text = np.zeros((len(text),len(chars)),dtype=np.bool)\n",
    "for i, char in enumerate(text):\n",
    "    better_text[i,char_indices[char]] = 1"
   ]
  },
  {
   "cell_type": "code",
   "execution_count": 38,
   "metadata": {},
   "outputs": [
    {
     "data": {
      "text/plain": [
       "(96527624, 45)"
      ]
     },
     "execution_count": 38,
     "metadata": {},
     "output_type": "execute_result"
    }
   ],
   "source": [
    "better_text.shape"
   ]
  },
  {
   "cell_type": "code",
   "execution_count": 44,
   "metadata": {},
   "outputs": [],
   "source": [
    "better_text.tofile(\"vectorized_smiles\")"
   ]
  },
  {
   "cell_type": "code",
   "execution_count": 43,
   "metadata": {},
   "outputs": [
    {
     "data": {
      "text/plain": [
       "['#',\n",
       " '%',\n",
       " '(',\n",
       " ')',\n",
       " '.',\n",
       " '0',\n",
       " '1',\n",
       " '2',\n",
       " '3',\n",
       " '4',\n",
       " '5',\n",
       " '6',\n",
       " '7',\n",
       " '8',\n",
       " '9',\n",
       " ':',\n",
       " '=',\n",
       " 'A',\n",
       " 'C',\n",
       " 'F',\n",
       " 'I',\n",
       " 'K',\n",
       " 'L',\n",
       " 'M',\n",
       " 'N',\n",
       " 'O',\n",
       " 'P',\n",
       " 'R',\n",
       " 'S',\n",
       " 'T',\n",
       " 'V',\n",
       " 'X',\n",
       " 'Z',\n",
       " 'a',\n",
       " 'b',\n",
       " 'c',\n",
       " 'e',\n",
       " 'g',\n",
       " 'i',\n",
       " 'l',\n",
       " 'o',\n",
       " 'p',\n",
       " 's',\n",
       " 't',\n",
       " 'u']"
      ]
     },
     "execution_count": 43,
     "metadata": {},
     "output_type": "execute_result"
    }
   ],
   "source": [
    "chars"
   ]
  },
  {
   "cell_type": "code",
   "execution_count": null,
   "metadata": {},
   "outputs": [],
   "source": []
  }
 ],
 "metadata": {
  "kernelspec": {
   "display_name": "Python 3",
   "language": "python",
   "name": "python3"
  },
  "language_info": {
   "codemirror_mode": {
    "name": "ipython",
    "version": 3
   },
   "file_extension": ".py",
   "mimetype": "text/x-python",
   "name": "python",
   "nbconvert_exporter": "python",
   "pygments_lexer": "ipython3",
   "version": "3.7.0"
  }
 },
 "nbformat": 4,
 "nbformat_minor": 2
}
