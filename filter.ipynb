{
  "nbformat": 4,
  "nbformat_minor": 0,
  "metadata": {
    "colab": {
      "name": "filter.ipynb",
      "version": "0.3.2",
      "provenance": [],
      "include_colab_link": true
    },
    "kernelspec": {
      "name": "python2",
      "display_name": "Python 2"
    },
    "accelerator": "GPU"
  },
  "cells": [
    {
      "cell_type": "markdown",
      "metadata": {
        "id": "view-in-github",
        "colab_type": "text"
      },
      "source": [
        "<a href=\"https://colab.research.google.com/github/Marytem/NLP_project/blob/master/filter.ipynb\" target=\"_parent\"><img src=\"https://colab.research.google.com/assets/colab-badge.svg\" alt=\"Open In Colab\"/></a>"
      ]
    },
    {
      "metadata": {
        "id": "g5F9VMBDH9Qq",
        "colab_type": "code",
        "outputId": "621faa5d-51d0-439a-e329-2861156a2f56",
        "colab": {
          "base_uri": "https://localhost:8080/",
          "height": 141
        }
      },
      "cell_type": "code",
      "source": [
        "!apt-get install python-rdkit librdkit1 rdkit-data\n"
      ],
      "execution_count": 0,
      "outputs": [
        {
          "output_type": "stream",
          "text": [
            "Reading package lists... Done\n",
            "Building dependency tree       \n",
            "Reading state information... Done\n",
            "librdkit1 is already the newest version (201603.5+dfsg-1ubuntu1).\n",
            "python-rdkit is already the newest version (201603.5+dfsg-1ubuntu1).\n",
            "rdkit-data is already the newest version (201603.5+dfsg-1ubuntu1).\n",
            "0 upgraded, 0 newly installed, 0 to remove and 13 not upgraded.\n"
          ],
          "name": "stdout"
        }
      ]
    },
    {
      "metadata": {
        "id": "iXSZW2JwGUBb",
        "colab_type": "code",
        "colab": {}
      },
      "cell_type": "code",
      "source": [
        "from __future__ import print_function\n",
        "from rdkit import Chem\n",
        "import numpy as np\n",
        "import pandas as pd"
      ],
      "execution_count": 0,
      "outputs": []
    },
    {
      "metadata": {
        "id": "s4Y7GyXgHkQZ",
        "colab_type": "code",
        "colab": {}
      },
      "cell_type": "code",
      "source": [
        "invalid_m = Chem.MolFromSmiles('CO(C)C')"
      ],
      "execution_count": 0,
      "outputs": []
    },
    {
      "metadata": {
        "id": "z3kCzWBIKHYX",
        "colab_type": "code",
        "colab": {}
      },
      "cell_type": "code",
      "source": [
        "invalid_m"
      ],
      "execution_count": 0,
      "outputs": []
    },
    {
      "metadata": {
        "id": "yqUAQgTnKQ4x",
        "colab_type": "code",
        "colab": {}
      },
      "cell_type": "code",
      "source": [
        "valid_m = Chem.MolFromSmiles('C1ccccC1')"
      ],
      "execution_count": 0,
      "outputs": []
    },
    {
      "metadata": {
        "id": "7V5hWyuFKTsM",
        "colab_type": "code",
        "outputId": "b9825d30-df71-4e26-ba59-d7e8997af522",
        "colab": {
          "base_uri": "https://localhost:8080/",
          "height": 34
        }
      },
      "cell_type": "code",
      "source": [
        "valid_m"
      ],
      "execution_count": 0,
      "outputs": [
        {
          "output_type": "execute_result",
          "data": {
            "text/plain": [
              "<rdkit.Chem.rdchem.Mol at 0x7f491215af30>"
            ]
          },
          "metadata": {
            "tags": []
          },
          "execution_count": 6
        }
      ]
    },
    {
      "metadata": {
        "id": "nqyeboXKHyq2",
        "colab_type": "code",
        "outputId": "3cc9cf33-eeab-4900-cf6e-c50e0637e87e",
        "colab": {
          "base_uri": "https://localhost:8080/",
          "height": 197
        }
      },
      "cell_type": "code",
      "source": [
        "init_data = pd.read_csv('preprocessed_smiles.csv', header=None, nrows=400000)\n",
        "init_data.drop(0, axis=1, inplace=True)\n",
        "init_data.head(5)"
      ],
      "execution_count": 0,
      "outputs": [
        {
          "output_type": "execute_result",
          "data": {
            "text/html": [
              "<div>\n",
              "<style scoped>\n",
              "    .dataframe tbody tr th:only-of-type {\n",
              "        vertical-align: middle;\n",
              "    }\n",
              "\n",
              "    .dataframe tbody tr th {\n",
              "        vertical-align: top;\n",
              "    }\n",
              "\n",
              "    .dataframe thead th {\n",
              "        text-align: right;\n",
              "    }\n",
              "</style>\n",
              "<table border=\"1\" class=\"dataframe\">\n",
              "  <thead>\n",
              "    <tr style=\"text-align: right;\">\n",
              "      <th></th>\n",
              "      <th>1</th>\n",
              "    </tr>\n",
              "  </thead>\n",
              "  <tbody>\n",
              "    <tr>\n",
              "      <th>0</th>\n",
              "      <td>Cc1cc(cn1C)c2csc(N=C(N)N)n2</td>\n",
              "    </tr>\n",
              "    <tr>\n",
              "      <th>1</th>\n",
              "      <td>CCC(C)C(NC(=O)C(CC(C)C)NC(=O)C(NC(=O)C(N)CCSC)...</td>\n",
              "    </tr>\n",
              "    <tr>\n",
              "      <th>2</th>\n",
              "      <td>CCCCC(NC(=O)C(CC(C)C)NC(=O)C(CCCCN)NC(=O)C(CCC...</td>\n",
              "    </tr>\n",
              "    <tr>\n",
              "      <th>3</th>\n",
              "      <td>CC(C)CC1NC(=O)CNC(=O)C(NC(=O)C(NC(=O)C(NC(=O)C...</td>\n",
              "    </tr>\n",
              "    <tr>\n",
              "      <th>4</th>\n",
              "      <td>Rc1cccc(Nc2ncnc3ccncc23)c1NCCN4CCOCC4</td>\n",
              "    </tr>\n",
              "  </tbody>\n",
              "</table>\n",
              "</div>"
            ],
            "text/plain": [
              "                                                   1\n",
              "0                        Cc1cc(cn1C)c2csc(N=C(N)N)n2\n",
              "1  CCC(C)C(NC(=O)C(CC(C)C)NC(=O)C(NC(=O)C(N)CCSC)...\n",
              "2  CCCCC(NC(=O)C(CC(C)C)NC(=O)C(CCCCN)NC(=O)C(CCC...\n",
              "3  CC(C)CC1NC(=O)CNC(=O)C(NC(=O)C(NC(=O)C(NC(=O)C...\n",
              "4              Rc1cccc(Nc2ncnc3ccncc23)c1NCCN4CCOCC4"
            ]
          },
          "metadata": {
            "tags": []
          },
          "execution_count": 7
        }
      ]
    },
    {
      "metadata": {
        "id": "h54XgkOJLEDl",
        "colab_type": "code",
        "outputId": "8d1a2d1e-a51a-4e4d-dd5c-0f4c762b1a02",
        "colab": {
          "base_uri": "https://localhost:8080/",
          "height": 52
        }
      },
      "cell_type": "code",
      "source": [
        "init_data.isna().sum()"
      ],
      "execution_count": 0,
      "outputs": [
        {
          "output_type": "execute_result",
          "data": {
            "text/plain": [
              "1    0\n",
              "dtype: int64"
            ]
          },
          "metadata": {
            "tags": []
          },
          "execution_count": 8
        }
      ]
    },
    {
      "metadata": {
        "id": "HMGCA1kmLLfZ",
        "colab_type": "code",
        "outputId": "c6363c53-487e-43f9-c14a-2237383d956f",
        "colab": {
          "base_uri": "https://localhost:8080/",
          "height": 197
        }
      },
      "cell_type": "code",
      "source": [
        "init_data.dropna(inplace=True)\n",
        "init_data.head(5)"
      ],
      "execution_count": 0,
      "outputs": [
        {
          "output_type": "execute_result",
          "data": {
            "text/html": [
              "<div>\n",
              "<style scoped>\n",
              "    .dataframe tbody tr th:only-of-type {\n",
              "        vertical-align: middle;\n",
              "    }\n",
              "\n",
              "    .dataframe tbody tr th {\n",
              "        vertical-align: top;\n",
              "    }\n",
              "\n",
              "    .dataframe thead th {\n",
              "        text-align: right;\n",
              "    }\n",
              "</style>\n",
              "<table border=\"1\" class=\"dataframe\">\n",
              "  <thead>\n",
              "    <tr style=\"text-align: right;\">\n",
              "      <th></th>\n",
              "      <th>1</th>\n",
              "    </tr>\n",
              "  </thead>\n",
              "  <tbody>\n",
              "    <tr>\n",
              "      <th>0</th>\n",
              "      <td>Cc1cc(cn1C)c2csc(N=C(N)N)n2</td>\n",
              "    </tr>\n",
              "    <tr>\n",
              "      <th>1</th>\n",
              "      <td>CCC(C)C(NC(=O)C(CC(C)C)NC(=O)C(NC(=O)C(N)CCSC)...</td>\n",
              "    </tr>\n",
              "    <tr>\n",
              "      <th>2</th>\n",
              "      <td>CCCCC(NC(=O)C(CC(C)C)NC(=O)C(CCCCN)NC(=O)C(CCC...</td>\n",
              "    </tr>\n",
              "    <tr>\n",
              "      <th>3</th>\n",
              "      <td>CC(C)CC1NC(=O)CNC(=O)C(NC(=O)C(NC(=O)C(NC(=O)C...</td>\n",
              "    </tr>\n",
              "    <tr>\n",
              "      <th>4</th>\n",
              "      <td>Rc1cccc(Nc2ncnc3ccncc23)c1NCCN4CCOCC4</td>\n",
              "    </tr>\n",
              "  </tbody>\n",
              "</table>\n",
              "</div>"
            ],
            "text/plain": [
              "                                                   1\n",
              "0                        Cc1cc(cn1C)c2csc(N=C(N)N)n2\n",
              "1  CCC(C)C(NC(=O)C(CC(C)C)NC(=O)C(NC(=O)C(N)CCSC)...\n",
              "2  CCCCC(NC(=O)C(CC(C)C)NC(=O)C(CCCCN)NC(=O)C(CCC...\n",
              "3  CC(C)CC1NC(=O)CNC(=O)C(NC(=O)C(NC(=O)C(NC(=O)C...\n",
              "4              Rc1cccc(Nc2ncnc3ccncc23)c1NCCN4CCOCC4"
            ]
          },
          "metadata": {
            "tags": []
          },
          "execution_count": 9
        }
      ]
    },
    {
      "metadata": {
        "id": "eEUj3_xCY4fc",
        "colab_type": "text"
      },
      "cell_type": "markdown",
      "source": [
        "Decode:"
      ]
    },
    {
      "metadata": {
        "id": "ZYRCvIxhY4Iz",
        "colab_type": "code",
        "colab": {}
      },
      "cell_type": "code",
      "source": [
        "init_data.replace(to_replace={\"A\" : \"[nH]\", \"L\" : \"Cl\",\"R\" : \"Br\"}, inplace=True)\n"
      ],
      "execution_count": 0,
      "outputs": []
    },
    {
      "metadata": {
        "id": "Tg8SN0Q-HylB",
        "colab_type": "code",
        "colab": {}
      },
      "cell_type": "code",
      "source": [
        "init_data[2] = pd.Series(data=list(map(Chem.MolFromSmiles, init_data[1])))"
      ],
      "execution_count": 0,
      "outputs": []
    },
    {
      "metadata": {
        "id": "_XG4B56cHyfy",
        "colab_type": "code",
        "outputId": "b9c175e8-c7b4-401b-9d38-c720368f0226",
        "colab": {
          "base_uri": "https://localhost:8080/",
          "height": 34
        }
      },
      "cell_type": "code",
      "source": [
        "init_data[2].isna().sum()"
      ],
      "execution_count": 0,
      "outputs": [
        {
          "output_type": "execute_result",
          "data": {
            "text/plain": [
              "142404"
            ]
          },
          "metadata": {
            "tags": []
          },
          "execution_count": 12
        }
      ]
    },
    {
      "metadata": {
        "id": "4QeI4mo7ufXg",
        "colab_type": "code",
        "outputId": "a605b9bd-bfb2-4864-a246-33519b3932a4",
        "colab": {
          "base_uri": "https://localhost:8080/",
          "height": 197
        }
      },
      "cell_type": "code",
      "source": [
        "init_data.dropna(inplace=True)\n",
        "init_data.head(5)"
      ],
      "execution_count": 0,
      "outputs": [
        {
          "output_type": "execute_result",
          "data": {
            "text/html": [
              "<div>\n",
              "<style scoped>\n",
              "    .dataframe tbody tr th:only-of-type {\n",
              "        vertical-align: middle;\n",
              "    }\n",
              "\n",
              "    .dataframe tbody tr th {\n",
              "        vertical-align: top;\n",
              "    }\n",
              "\n",
              "    .dataframe thead th {\n",
              "        text-align: right;\n",
              "    }\n",
              "</style>\n",
              "<table border=\"1\" class=\"dataframe\">\n",
              "  <thead>\n",
              "    <tr style=\"text-align: right;\">\n",
              "      <th></th>\n",
              "      <th>1</th>\n",
              "      <th>2</th>\n",
              "    </tr>\n",
              "  </thead>\n",
              "  <tbody>\n",
              "    <tr>\n",
              "      <th>0</th>\n",
              "      <td>Cc1cc(cn1C)c2csc(N=C(N)N)n2</td>\n",
              "      <td>&lt;rdkit.Chem.rdchem.Mol object at 0x7f490c35b2f0&gt;</td>\n",
              "    </tr>\n",
              "    <tr>\n",
              "      <th>5</th>\n",
              "      <td>COc1c(O)cc(O)c(C(=N)Cc2ccc(O)cc2)c1O</td>\n",
              "      <td>&lt;rdkit.Chem.rdchem.Mol object at 0x7f490c35b3d0&gt;</td>\n",
              "    </tr>\n",
              "    <tr>\n",
              "      <th>7</th>\n",
              "      <td>CC(=O)OC1C(OC(=O)C)C(=CC2OC(=O)C3(C)OC23C(OC(=...</td>\n",
              "      <td>&lt;rdkit.Chem.rdchem.Mol object at 0x7f490c35b440&gt;</td>\n",
              "    </tr>\n",
              "    <tr>\n",
              "      <th>8</th>\n",
              "      <td>CC(NC(=O)OCc1ccccc1)C(=O)NC(C)C(=O)NN(CC(=O)N)...</td>\n",
              "      <td>&lt;rdkit.Chem.rdchem.Mol object at 0x7f490c35b4b0&gt;</td>\n",
              "    </tr>\n",
              "    <tr>\n",
              "      <th>9</th>\n",
              "      <td>COC1CC(COCC2C(C)OC(CC2OC)OC3CCC4(C)C5CC(OC(=O)...</td>\n",
              "      <td>&lt;rdkit.Chem.rdchem.Mol object at 0x7f490c35b520&gt;</td>\n",
              "    </tr>\n",
              "  </tbody>\n",
              "</table>\n",
              "</div>"
            ],
            "text/plain": [
              "                                                   1  \\\n",
              "0                        Cc1cc(cn1C)c2csc(N=C(N)N)n2   \n",
              "5               COc1c(O)cc(O)c(C(=N)Cc2ccc(O)cc2)c1O   \n",
              "7  CC(=O)OC1C(OC(=O)C)C(=CC2OC(=O)C3(C)OC23C(OC(=...   \n",
              "8  CC(NC(=O)OCc1ccccc1)C(=O)NC(C)C(=O)NN(CC(=O)N)...   \n",
              "9  COC1CC(COCC2C(C)OC(CC2OC)OC3CCC4(C)C5CC(OC(=O)...   \n",
              "\n",
              "                                                  2  \n",
              "0  <rdkit.Chem.rdchem.Mol object at 0x7f490c35b2f0>  \n",
              "5  <rdkit.Chem.rdchem.Mol object at 0x7f490c35b3d0>  \n",
              "7  <rdkit.Chem.rdchem.Mol object at 0x7f490c35b440>  \n",
              "8  <rdkit.Chem.rdchem.Mol object at 0x7f490c35b4b0>  \n",
              "9  <rdkit.Chem.rdchem.Mol object at 0x7f490c35b520>  "
            ]
          },
          "metadata": {
            "tags": []
          },
          "execution_count": 15
        }
      ]
    },
    {
      "metadata": {
        "id": "YRrVy061-jAh",
        "colab_type": "code",
        "outputId": "6c7b38e7-4b72-4517-d5a5-763a6d548de5",
        "colab": {
          "base_uri": "https://localhost:8080/",
          "height": 34
        }
      },
      "cell_type": "code",
      "source": [
        "init_data.shape"
      ],
      "execution_count": 0,
      "outputs": [
        {
          "output_type": "execute_result",
          "data": {
            "text/plain": [
              "(257596, 2)"
            ]
          },
          "metadata": {
            "tags": []
          },
          "execution_count": 17
        }
      ]
    },
    {
      "metadata": {
        "id": "dTmZ8kafufPP",
        "colab_type": "code",
        "colab": {}
      },
      "cell_type": "code",
      "source": [
        "init_data[1].to_csv('correct_data.csv')"
      ],
      "execution_count": 0,
      "outputs": []
    },
    {
      "metadata": {
        "id": "J_Zinkp6HydW",
        "colab_type": "code",
        "colab": {}
      },
      "cell_type": "code",
      "source": [
        ""
      ],
      "execution_count": 0,
      "outputs": []
    },
    {
      "metadata": {
        "id": "A4RxCWdlHyZ1",
        "colab_type": "code",
        "colab": {}
      },
      "cell_type": "code",
      "source": [
        ""
      ],
      "execution_count": 0,
      "outputs": []
    }
  ]
}