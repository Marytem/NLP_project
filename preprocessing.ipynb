{
 "cells": [
  {
   "cell_type": "code",
   "execution_count": 1,
   "metadata": {},
   "outputs": [],
   "source": [
    "import pandas as pd\n",
    "import numpy as np\n"
   ]
  },
  {
   "cell_type": "code",
   "execution_count": 2,
   "metadata": {},
   "outputs": [
    {
     "data": {
      "text/html": [
       "<div>\n",
       "<style scoped>\n",
       "    .dataframe tbody tr th:only-of-type {\n",
       "        vertical-align: middle;\n",
       "    }\n",
       "\n",
       "    .dataframe tbody tr th {\n",
       "        vertical-align: top;\n",
       "    }\n",
       "\n",
       "    .dataframe thead th {\n",
       "        text-align: right;\n",
       "    }\n",
       "</style>\n",
       "<table border=\"1\" class=\"dataframe\">\n",
       "  <thead>\n",
       "    <tr style=\"text-align: right;\">\n",
       "      <th></th>\n",
       "      <th>1</th>\n",
       "    </tr>\n",
       "  </thead>\n",
       "  <tbody>\n",
       "    <tr>\n",
       "      <th>0</th>\n",
       "      <td>Cc1cc(cA1C)c2csc(N=C(N)N)A2</td>\n",
       "    </tr>\n",
       "    <tr>\n",
       "      <th>1</th>\n",
       "      <td>CC[CCA](C)[CCA](NC(=O)[CCA](CC(C)C)NC(=O)[CCCA...</td>\n",
       "    </tr>\n",
       "    <tr>\n",
       "      <th>2</th>\n",
       "      <td>CCCC[CCA](NC(=O)[CCA](CC(C)C)NC(=O)[CCA](CCCCN...</td>\n",
       "    </tr>\n",
       "    <tr>\n",
       "      <th>3</th>\n",
       "      <td>CC(C)C[CCCA]1NC(=O)CNC(=O)[CCCA](NC(=O)[CCA](N...</td>\n",
       "    </tr>\n",
       "    <tr>\n",
       "      <th>4</th>\n",
       "      <td>Rc1cccc(Nc2AcAc3ccAcc23)c1NCCN4CCOCC4</td>\n",
       "    </tr>\n",
       "    <tr>\n",
       "      <th>5</th>\n",
       "      <td>COc1c(O)cc(O)c(C(=N)Cc2ccc(O)cc2)c1O</td>\n",
       "    </tr>\n",
       "    <tr>\n",
       "      <th>6</th>\n",
       "      <td>CCOC(=O)c1cc2cc(ccc2[AA]1)C(=O)O</td>\n",
       "    </tr>\n",
       "    <tr>\n",
       "      <th>7</th>\n",
       "      <td>CC(=O)O[CCCA]1[CCCA](OC(=O)C)C(=C[CCCA]2OC(=O)...</td>\n",
       "    </tr>\n",
       "    <tr>\n",
       "      <th>8</th>\n",
       "      <td>C[CCA](NC(=O)OCc1ccccc1)C(=O)N[CCCA](C)C(=O)NN...</td>\n",
       "    </tr>\n",
       "    <tr>\n",
       "      <th>9</th>\n",
       "      <td>CO[CCA]1C[CCA](COC[CCCA]2[CCCA](C)O[CCA](C[CCC...</td>\n",
       "    </tr>\n",
       "  </tbody>\n",
       "</table>\n",
       "</div>"
      ],
      "text/plain": [
       "                                                   1\n",
       "0                        Cc1cc(cA1C)c2csc(N=C(N)N)A2\n",
       "1  CC[CCA](C)[CCA](NC(=O)[CCA](CC(C)C)NC(=O)[CCCA...\n",
       "2  CCCC[CCA](NC(=O)[CCA](CC(C)C)NC(=O)[CCA](CCCCN...\n",
       "3  CC(C)C[CCCA]1NC(=O)CNC(=O)[CCCA](NC(=O)[CCA](N...\n",
       "4              Rc1cccc(Nc2AcAc3ccAcc23)c1NCCN4CCOCC4\n",
       "5               COc1c(O)cc(O)c(C(=N)Cc2ccc(O)cc2)c1O\n",
       "6                   CCOC(=O)c1cc2cc(ccc2[AA]1)C(=O)O\n",
       "7  CC(=O)O[CCCA]1[CCCA](OC(=O)C)C(=C[CCCA]2OC(=O)...\n",
       "8  C[CCA](NC(=O)OCc1ccccc1)C(=O)N[CCCA](C)C(=O)NN...\n",
       "9  CO[CCA]1C[CCA](COC[CCCA]2[CCCA](C)O[CCA](C[CCC..."
      ]
     },
     "execution_count": 2,
     "metadata": {},
     "output_type": "execute_result"
    }
   ],
   "source": [
    "data = pd.read_csv(\"smiles.csv\", header=None)\n",
    "# data.cols = [ 'formula']\n",
    "del data[0]\n",
    "data.head(10)"
   ]
  },
  {
   "cell_type": "code",
   "execution_count": 3,
   "metadata": {},
   "outputs": [],
   "source": [
    "needed_symbs = 'CFLRIONSAcons123456789=#()'"
   ]
  },
  {
   "cell_type": "code",
   "execution_count": 4,
   "metadata": {},
   "outputs": [],
   "source": [
    "data[1] = data[1].str.replace(\"[\", \"\").str.strip()\n",
    "data[1] = data[1].str.replace(\"]\", \"\").str.strip()"
   ]
  },
  {
   "cell_type": "code",
   "execution_count": 5,
   "metadata": {},
   "outputs": [],
   "source": [
    "data[1] = data[1].str.replace(\"+\", \"\").str.strip()\n",
    "data[1] = data[1].str.replace(\"-\", \"\").str.strip()"
   ]
  },
  {
   "cell_type": "code",
   "execution_count": 6,
   "metadata": {},
   "outputs": [
    {
     "data": {
      "text/html": [
       "<div>\n",
       "<style scoped>\n",
       "    .dataframe tbody tr th:only-of-type {\n",
       "        vertical-align: middle;\n",
       "    }\n",
       "\n",
       "    .dataframe tbody tr th {\n",
       "        vertical-align: top;\n",
       "    }\n",
       "\n",
       "    .dataframe thead th {\n",
       "        text-align: right;\n",
       "    }\n",
       "</style>\n",
       "<table border=\"1\" class=\"dataframe\">\n",
       "  <thead>\n",
       "    <tr style=\"text-align: right;\">\n",
       "      <th></th>\n",
       "      <th>1</th>\n",
       "    </tr>\n",
       "  </thead>\n",
       "  <tbody>\n",
       "    <tr>\n",
       "      <th>0</th>\n",
       "      <td>Cc1cc(cA1C)c2csc(N=C(N)N)A2</td>\n",
       "    </tr>\n",
       "    <tr>\n",
       "      <th>1</th>\n",
       "      <td>CCCCA(C)CCA(NC(=O)CCA(CC(C)C)NC(=O)CCCA(NC(=O)...</td>\n",
       "    </tr>\n",
       "    <tr>\n",
       "      <th>2</th>\n",
       "      <td>CCCCCCA(NC(=O)CCA(CC(C)C)NC(=O)CCA(CCCCN)NC(=O...</td>\n",
       "    </tr>\n",
       "    <tr>\n",
       "      <th>3</th>\n",
       "      <td>CC(C)CCCCA1NC(=O)CNC(=O)CCCA(NC(=O)CCA(NC(=O)C...</td>\n",
       "    </tr>\n",
       "    <tr>\n",
       "      <th>4</th>\n",
       "      <td>Rc1cccc(Nc2AcAc3ccAcc23)c1NCCN4CCOCC4</td>\n",
       "    </tr>\n",
       "  </tbody>\n",
       "</table>\n",
       "</div>"
      ],
      "text/plain": [
       "                                                   1\n",
       "0                        Cc1cc(cA1C)c2csc(N=C(N)N)A2\n",
       "1  CCCCA(C)CCA(NC(=O)CCA(CC(C)C)NC(=O)CCCA(NC(=O)...\n",
       "2  CCCCCCA(NC(=O)CCA(CC(C)C)NC(=O)CCA(CCCCN)NC(=O...\n",
       "3  CC(C)CCCCA1NC(=O)CNC(=O)CCCA(NC(=O)CCA(NC(=O)C...\n",
       "4              Rc1cccc(Nc2AcAc3ccAcc23)c1NCCN4CCOCC4"
      ]
     },
     "execution_count": 6,
     "metadata": {},
     "output_type": "execute_result"
    }
   ],
   "source": [
    "data.head(5)"
   ]
  },
  {
   "cell_type": "code",
   "execution_count": 7,
   "metadata": {},
   "outputs": [],
   "source": [
    "data.to_csv('preprocessed_smiles.csv')"
   ]
  },
  {
   "cell_type": "code",
   "execution_count": null,
   "metadata": {},
   "outputs": [],
   "source": []
  },
  {
   "cell_type": "code",
   "execution_count": null,
   "metadata": {},
   "outputs": [],
   "source": []
  },
  {
   "cell_type": "code",
   "execution_count": null,
   "metadata": {},
   "outputs": [],
   "source": []
  },
  {
   "cell_type": "code",
   "execution_count": null,
   "metadata": {},
   "outputs": [],
   "source": []
  },
  {
   "cell_type": "code",
   "execution_count": null,
   "metadata": {},
   "outputs": [],
   "source": []
  }
 ],
 "metadata": {
  "kernelspec": {
   "display_name": "Python 3",
   "language": "python",
   "name": "python3"
  },
  "language_info": {
   "codemirror_mode": {
    "name": "ipython",
    "version": 3
   },
   "file_extension": ".py",
   "mimetype": "text/x-python",
   "name": "python",
   "nbconvert_exporter": "python",
   "pygments_lexer": "ipython3",
   "version": "3.6.6"
  }
 },
 "nbformat": 4,
 "nbformat_minor": 2
}
